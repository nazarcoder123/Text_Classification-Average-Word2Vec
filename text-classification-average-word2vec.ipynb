{
 "cells": [
  {
   "cell_type": "code",
   "execution_count": 1,
   "id": "cdb0da29",
   "metadata": {
    "execution": {
     "iopub.execute_input": "2023-08-26T09:07:00.610565Z",
     "iopub.status.busy": "2023-08-26T09:07:00.610016Z",
     "iopub.status.idle": "2023-08-26T09:07:00.620747Z",
     "shell.execute_reply": "2023-08-26T09:07:00.619909Z"
    },
    "papermill": {
     "duration": 0.026421,
     "end_time": "2023-08-26T09:07:00.622968",
     "exception": false,
     "start_time": "2023-08-26T09:07:00.596547",
     "status": "completed"
    },
    "tags": []
   },
   "outputs": [],
   "source": [
    "import numpy as np\n",
    "import pandas as pd"
   ]
  },
  {
   "cell_type": "code",
   "execution_count": 2,
   "id": "ddda37fe",
   "metadata": {
    "execution": {
     "iopub.execute_input": "2023-08-26T09:07:00.647648Z",
     "iopub.status.busy": "2023-08-26T09:07:00.647264Z",
     "iopub.status.idle": "2023-08-26T09:07:02.359751Z",
     "shell.execute_reply": "2023-08-26T09:07:02.358618Z"
    },
    "papermill": {
     "duration": 1.727709,
     "end_time": "2023-08-26T09:07:02.362443",
     "exception": false,
     "start_time": "2023-08-26T09:07:00.634734",
     "status": "completed"
    },
    "tags": []
   },
   "outputs": [],
   "source": [
    "temp_df = pd.read_csv(\"/kaggle/input/imdb-dataset-of-50k-movie-reviews/IMDB Dataset.csv\")"
   ]
  },
  {
   "cell_type": "code",
   "execution_count": 3,
   "id": "d421a533",
   "metadata": {
    "execution": {
     "iopub.execute_input": "2023-08-26T09:07:02.387007Z",
     "iopub.status.busy": "2023-08-26T09:07:02.386654Z",
     "iopub.status.idle": "2023-08-26T09:07:02.391329Z",
     "shell.execute_reply": "2023-08-26T09:07:02.390255Z"
    },
    "papermill": {
     "duration": 0.019201,
     "end_time": "2023-08-26T09:07:02.393466",
     "exception": false,
     "start_time": "2023-08-26T09:07:02.374265",
     "status": "completed"
    },
    "tags": []
   },
   "outputs": [],
   "source": [
    "df = temp_df.iloc[:10000]"
   ]
  },
  {
   "cell_type": "code",
   "execution_count": 4,
   "id": "3779d9f6",
   "metadata": {
    "execution": {
     "iopub.execute_input": "2023-08-26T09:07:02.418792Z",
     "iopub.status.busy": "2023-08-26T09:07:02.418464Z",
     "iopub.status.idle": "2023-08-26T09:07:02.436227Z",
     "shell.execute_reply": "2023-08-26T09:07:02.435163Z"
    },
    "papermill": {
     "duration": 0.033885,
     "end_time": "2023-08-26T09:07:02.438555",
     "exception": false,
     "start_time": "2023-08-26T09:07:02.404670",
     "status": "completed"
    },
    "tags": []
   },
   "outputs": [
    {
     "data": {
      "text/html": [
       "<div>\n",
       "<style scoped>\n",
       "    .dataframe tbody tr th:only-of-type {\n",
       "        vertical-align: middle;\n",
       "    }\n",
       "\n",
       "    .dataframe tbody tr th {\n",
       "        vertical-align: top;\n",
       "    }\n",
       "\n",
       "    .dataframe thead th {\n",
       "        text-align: right;\n",
       "    }\n",
       "</style>\n",
       "<table border=\"1\" class=\"dataframe\">\n",
       "  <thead>\n",
       "    <tr style=\"text-align: right;\">\n",
       "      <th></th>\n",
       "      <th>review</th>\n",
       "      <th>sentiment</th>\n",
       "    </tr>\n",
       "  </thead>\n",
       "  <tbody>\n",
       "    <tr>\n",
       "      <th>0</th>\n",
       "      <td>One of the other reviewers has mentioned that ...</td>\n",
       "      <td>positive</td>\n",
       "    </tr>\n",
       "    <tr>\n",
       "      <th>1</th>\n",
       "      <td>A wonderful little production. &lt;br /&gt;&lt;br /&gt;The...</td>\n",
       "      <td>positive</td>\n",
       "    </tr>\n",
       "    <tr>\n",
       "      <th>2</th>\n",
       "      <td>I thought this was a wonderful way to spend ti...</td>\n",
       "      <td>positive</td>\n",
       "    </tr>\n",
       "    <tr>\n",
       "      <th>3</th>\n",
       "      <td>Basically there's a family where a little boy ...</td>\n",
       "      <td>negative</td>\n",
       "    </tr>\n",
       "    <tr>\n",
       "      <th>4</th>\n",
       "      <td>Petter Mattei's \"Love in the Time of Money\" is...</td>\n",
       "      <td>positive</td>\n",
       "    </tr>\n",
       "  </tbody>\n",
       "</table>\n",
       "</div>"
      ],
      "text/plain": [
       "                                              review sentiment\n",
       "0  One of the other reviewers has mentioned that ...  positive\n",
       "1  A wonderful little production. <br /><br />The...  positive\n",
       "2  I thought this was a wonderful way to spend ti...  positive\n",
       "3  Basically there's a family where a little boy ...  negative\n",
       "4  Petter Mattei's \"Love in the Time of Money\" is...  positive"
      ]
     },
     "execution_count": 4,
     "metadata": {},
     "output_type": "execute_result"
    }
   ],
   "source": [
    "df.head()"
   ]
  },
  {
   "cell_type": "code",
   "execution_count": 5,
   "id": "3b4b6759",
   "metadata": {
    "execution": {
     "iopub.execute_input": "2023-08-26T09:07:02.464075Z",
     "iopub.status.busy": "2023-08-26T09:07:02.463731Z",
     "iopub.status.idle": "2023-08-26T09:07:02.469966Z",
     "shell.execute_reply": "2023-08-26T09:07:02.469042Z"
    },
    "papermill": {
     "duration": 0.02064,
     "end_time": "2023-08-26T09:07:02.472153",
     "exception": false,
     "start_time": "2023-08-26T09:07:02.451513",
     "status": "completed"
    },
    "tags": []
   },
   "outputs": [
    {
     "data": {
      "text/plain": [
       "'A wonderful little production. <br /><br />The filming technique is very unassuming- very old-time-BBC fashion and gives a comforting, and sometimes discomforting, sense of realism to the entire piece. <br /><br />The actors are extremely well chosen- Michael Sheen not only \"has got all the polari\" but he has all the voices down pat too! You can truly see the seamless editing guided by the references to Williams\\' diary entries, not only is it well worth the watching but it is a terrificly written and performed piece. A masterful production about one of the great master\\'s of comedy and his life. <br /><br />The realism really comes home with the little things: the fantasy of the guard which, rather than use the traditional \\'dream\\' techniques remains solid then disappears. It plays on our knowledge and our senses, particularly with the scenes concerning Orton and Halliwell and the sets (particularly of their flat with Halliwell\\'s murals decorating every surface) are terribly well done.'"
      ]
     },
     "execution_count": 5,
     "metadata": {},
     "output_type": "execute_result"
    }
   ],
   "source": [
    "df['review'][1]"
   ]
  },
  {
   "cell_type": "code",
   "execution_count": 6,
   "id": "d961b38e",
   "metadata": {
    "execution": {
     "iopub.execute_input": "2023-08-26T09:07:02.496442Z",
     "iopub.status.busy": "2023-08-26T09:07:02.496132Z",
     "iopub.status.idle": "2023-08-26T09:07:02.509514Z",
     "shell.execute_reply": "2023-08-26T09:07:02.508588Z"
    },
    "papermill": {
     "duration": 0.027863,
     "end_time": "2023-08-26T09:07:02.511513",
     "exception": false,
     "start_time": "2023-08-26T09:07:02.483650",
     "status": "completed"
    },
    "tags": []
   },
   "outputs": [
    {
     "data": {
      "text/plain": [
       "positive    5028\n",
       "negative    4972\n",
       "Name: sentiment, dtype: int64"
      ]
     },
     "execution_count": 6,
     "metadata": {},
     "output_type": "execute_result"
    }
   ],
   "source": [
    "df['sentiment'].value_counts()"
   ]
  },
  {
   "cell_type": "code",
   "execution_count": 7,
   "id": "94952461",
   "metadata": {
    "execution": {
     "iopub.execute_input": "2023-08-26T09:07:02.535993Z",
     "iopub.status.busy": "2023-08-26T09:07:02.535686Z",
     "iopub.status.idle": "2023-08-26T09:07:02.550964Z",
     "shell.execute_reply": "2023-08-26T09:07:02.550137Z"
    },
    "papermill": {
     "duration": 0.029719,
     "end_time": "2023-08-26T09:07:02.553077",
     "exception": false,
     "start_time": "2023-08-26T09:07:02.523358",
     "status": "completed"
    },
    "tags": []
   },
   "outputs": [
    {
     "data": {
      "text/plain": [
       "review       0\n",
       "sentiment    0\n",
       "dtype: int64"
      ]
     },
     "execution_count": 7,
     "metadata": {},
     "output_type": "execute_result"
    }
   ],
   "source": [
    "df.isnull().sum()"
   ]
  },
  {
   "cell_type": "code",
   "execution_count": 8,
   "id": "956ead83",
   "metadata": {
    "execution": {
     "iopub.execute_input": "2023-08-26T09:07:02.578028Z",
     "iopub.status.busy": "2023-08-26T09:07:02.577716Z",
     "iopub.status.idle": "2023-08-26T09:07:02.623479Z",
     "shell.execute_reply": "2023-08-26T09:07:02.622509Z"
    },
    "papermill": {
     "duration": 0.060565,
     "end_time": "2023-08-26T09:07:02.625663",
     "exception": false,
     "start_time": "2023-08-26T09:07:02.565098",
     "status": "completed"
    },
    "tags": []
   },
   "outputs": [
    {
     "data": {
      "text/plain": [
       "17"
      ]
     },
     "execution_count": 8,
     "metadata": {},
     "output_type": "execute_result"
    }
   ],
   "source": [
    "df.duplicated().sum()"
   ]
  },
  {
   "cell_type": "code",
   "execution_count": 9,
   "id": "70ed8799",
   "metadata": {
    "execution": {
     "iopub.execute_input": "2023-08-26T09:07:02.651882Z",
     "iopub.status.busy": "2023-08-26T09:07:02.651209Z",
     "iopub.status.idle": "2023-08-26T09:07:02.692014Z",
     "shell.execute_reply": "2023-08-26T09:07:02.690900Z"
    },
    "papermill": {
     "duration": 0.05651,
     "end_time": "2023-08-26T09:07:02.694645",
     "exception": false,
     "start_time": "2023-08-26T09:07:02.638135",
     "status": "completed"
    },
    "tags": []
   },
   "outputs": [
    {
     "name": "stderr",
     "output_type": "stream",
     "text": [
      "/tmp/ipykernel_20/3006716147.py:1: SettingWithCopyWarning: \n",
      "A value is trying to be set on a copy of a slice from a DataFrame\n",
      "\n",
      "See the caveats in the documentation: https://pandas.pydata.org/pandas-docs/stable/user_guide/indexing.html#returning-a-view-versus-a-copy\n",
      "  df.drop_duplicates(inplace=True)\n"
     ]
    }
   ],
   "source": [
    "df.drop_duplicates(inplace=True)"
   ]
  },
  {
   "cell_type": "code",
   "execution_count": 10,
   "id": "4b96bb0b",
   "metadata": {
    "execution": {
     "iopub.execute_input": "2023-08-26T09:07:02.721558Z",
     "iopub.status.busy": "2023-08-26T09:07:02.720729Z",
     "iopub.status.idle": "2023-08-26T09:07:02.762236Z",
     "shell.execute_reply": "2023-08-26T09:07:02.761256Z"
    },
    "papermill": {
     "duration": 0.057562,
     "end_time": "2023-08-26T09:07:02.764612",
     "exception": false,
     "start_time": "2023-08-26T09:07:02.707050",
     "status": "completed"
    },
    "tags": []
   },
   "outputs": [
    {
     "data": {
      "text/plain": [
       "0"
      ]
     },
     "execution_count": 10,
     "metadata": {},
     "output_type": "execute_result"
    }
   ],
   "source": [
    "df.duplicated().sum()"
   ]
  },
  {
   "cell_type": "code",
   "execution_count": 11,
   "id": "360fb31e",
   "metadata": {
    "execution": {
     "iopub.execute_input": "2023-08-26T09:07:02.791276Z",
     "iopub.status.busy": "2023-08-26T09:07:02.790920Z",
     "iopub.status.idle": "2023-08-26T09:07:02.794866Z",
     "shell.execute_reply": "2023-08-26T09:07:02.794016Z"
    },
    "papermill": {
     "duration": 0.019865,
     "end_time": "2023-08-26T09:07:02.797069",
     "exception": false,
     "start_time": "2023-08-26T09:07:02.777204",
     "status": "completed"
    },
    "tags": []
   },
   "outputs": [],
   "source": [
    "# Basic Preprocessing\n",
    "# Remove tags\n",
    "# lowercase\n",
    "# remove stopwords"
   ]
  },
  {
   "cell_type": "code",
   "execution_count": 12,
   "id": "3bcb6b93",
   "metadata": {
    "execution": {
     "iopub.execute_input": "2023-08-26T09:07:02.823340Z",
     "iopub.status.busy": "2023-08-26T09:07:02.823036Z",
     "iopub.status.idle": "2023-08-26T09:07:02.828257Z",
     "shell.execute_reply": "2023-08-26T09:07:02.827302Z"
    },
    "papermill": {
     "duration": 0.020739,
     "end_time": "2023-08-26T09:07:02.830468",
     "exception": false,
     "start_time": "2023-08-26T09:07:02.809729",
     "status": "completed"
    },
    "tags": []
   },
   "outputs": [],
   "source": [
    "import re\n",
    "def remove_tags(raw_text):\n",
    "    cleaned_text = re.sub(re.compile('<.*?>'), '', raw_text)\n",
    "    return cleaned_text"
   ]
  },
  {
   "cell_type": "code",
   "execution_count": 13,
   "id": "e00b9ed0",
   "metadata": {
    "execution": {
     "iopub.execute_input": "2023-08-26T09:07:02.857301Z",
     "iopub.status.busy": "2023-08-26T09:07:02.856689Z",
     "iopub.status.idle": "2023-08-26T09:07:02.924969Z",
     "shell.execute_reply": "2023-08-26T09:07:02.924029Z"
    },
    "papermill": {
     "duration": 0.084342,
     "end_time": "2023-08-26T09:07:02.927076",
     "exception": false,
     "start_time": "2023-08-26T09:07:02.842734",
     "status": "completed"
    },
    "tags": []
   },
   "outputs": [
    {
     "name": "stderr",
     "output_type": "stream",
     "text": [
      "/tmp/ipykernel_20/2336150696.py:1: SettingWithCopyWarning: \n",
      "A value is trying to be set on a copy of a slice from a DataFrame.\n",
      "Try using .loc[row_indexer,col_indexer] = value instead\n",
      "\n",
      "See the caveats in the documentation: https://pandas.pydata.org/pandas-docs/stable/user_guide/indexing.html#returning-a-view-versus-a-copy\n",
      "  df['review'] = df['review'].apply(remove_tags)\n"
     ]
    }
   ],
   "source": [
    "df['review'] = df['review'].apply(remove_tags)"
   ]
  },
  {
   "cell_type": "code",
   "execution_count": 14,
   "id": "eca642b1",
   "metadata": {
    "execution": {
     "iopub.execute_input": "2023-08-26T09:07:02.954241Z",
     "iopub.status.busy": "2023-08-26T09:07:02.953669Z",
     "iopub.status.idle": "2023-08-26T09:07:02.965519Z",
     "shell.execute_reply": "2023-08-26T09:07:02.964595Z"
    },
    "papermill": {
     "duration": 0.027566,
     "end_time": "2023-08-26T09:07:02.967648",
     "exception": false,
     "start_time": "2023-08-26T09:07:02.940082",
     "status": "completed"
    },
    "tags": []
   },
   "outputs": [
    {
     "data": {
      "text/html": [
       "<div>\n",
       "<style scoped>\n",
       "    .dataframe tbody tr th:only-of-type {\n",
       "        vertical-align: middle;\n",
       "    }\n",
       "\n",
       "    .dataframe tbody tr th {\n",
       "        vertical-align: top;\n",
       "    }\n",
       "\n",
       "    .dataframe thead th {\n",
       "        text-align: right;\n",
       "    }\n",
       "</style>\n",
       "<table border=\"1\" class=\"dataframe\">\n",
       "  <thead>\n",
       "    <tr style=\"text-align: right;\">\n",
       "      <th></th>\n",
       "      <th>review</th>\n",
       "      <th>sentiment</th>\n",
       "    </tr>\n",
       "  </thead>\n",
       "  <tbody>\n",
       "    <tr>\n",
       "      <th>0</th>\n",
       "      <td>One of the other reviewers has mentioned that ...</td>\n",
       "      <td>positive</td>\n",
       "    </tr>\n",
       "    <tr>\n",
       "      <th>1</th>\n",
       "      <td>A wonderful little production. The filming tec...</td>\n",
       "      <td>positive</td>\n",
       "    </tr>\n",
       "    <tr>\n",
       "      <th>2</th>\n",
       "      <td>I thought this was a wonderful way to spend ti...</td>\n",
       "      <td>positive</td>\n",
       "    </tr>\n",
       "    <tr>\n",
       "      <th>3</th>\n",
       "      <td>Basically there's a family where a little boy ...</td>\n",
       "      <td>negative</td>\n",
       "    </tr>\n",
       "    <tr>\n",
       "      <th>4</th>\n",
       "      <td>Petter Mattei's \"Love in the Time of Money\" is...</td>\n",
       "      <td>positive</td>\n",
       "    </tr>\n",
       "    <tr>\n",
       "      <th>...</th>\n",
       "      <td>...</td>\n",
       "      <td>...</td>\n",
       "    </tr>\n",
       "    <tr>\n",
       "      <th>9995</th>\n",
       "      <td>Fun, entertaining movie about WWII German spy ...</td>\n",
       "      <td>positive</td>\n",
       "    </tr>\n",
       "    <tr>\n",
       "      <th>9996</th>\n",
       "      <td>Give me a break. How can anyone say that this ...</td>\n",
       "      <td>negative</td>\n",
       "    </tr>\n",
       "    <tr>\n",
       "      <th>9997</th>\n",
       "      <td>This movie is a bad movie. But after watching ...</td>\n",
       "      <td>negative</td>\n",
       "    </tr>\n",
       "    <tr>\n",
       "      <th>9998</th>\n",
       "      <td>This is a movie that was probably made to ente...</td>\n",
       "      <td>negative</td>\n",
       "    </tr>\n",
       "    <tr>\n",
       "      <th>9999</th>\n",
       "      <td>Smashing film about film-making. Shows the int...</td>\n",
       "      <td>positive</td>\n",
       "    </tr>\n",
       "  </tbody>\n",
       "</table>\n",
       "<p>9983 rows × 2 columns</p>\n",
       "</div>"
      ],
      "text/plain": [
       "                                                 review sentiment\n",
       "0     One of the other reviewers has mentioned that ...  positive\n",
       "1     A wonderful little production. The filming tec...  positive\n",
       "2     I thought this was a wonderful way to spend ti...  positive\n",
       "3     Basically there's a family where a little boy ...  negative\n",
       "4     Petter Mattei's \"Love in the Time of Money\" is...  positive\n",
       "...                                                 ...       ...\n",
       "9995  Fun, entertaining movie about WWII German spy ...  positive\n",
       "9996  Give me a break. How can anyone say that this ...  negative\n",
       "9997  This movie is a bad movie. But after watching ...  negative\n",
       "9998  This is a movie that was probably made to ente...  negative\n",
       "9999  Smashing film about film-making. Shows the int...  positive\n",
       "\n",
       "[9983 rows x 2 columns]"
      ]
     },
     "execution_count": 14,
     "metadata": {},
     "output_type": "execute_result"
    }
   ],
   "source": [
    "df"
   ]
  },
  {
   "cell_type": "code",
   "execution_count": 15,
   "id": "1b975194",
   "metadata": {
    "execution": {
     "iopub.execute_input": "2023-08-26T09:07:02.995111Z",
     "iopub.status.busy": "2023-08-26T09:07:02.994781Z",
     "iopub.status.idle": "2023-08-26T09:07:03.043739Z",
     "shell.execute_reply": "2023-08-26T09:07:03.042692Z"
    },
    "papermill": {
     "duration": 0.065407,
     "end_time": "2023-08-26T09:07:03.046073",
     "exception": false,
     "start_time": "2023-08-26T09:07:02.980666",
     "status": "completed"
    },
    "tags": []
   },
   "outputs": [
    {
     "name": "stderr",
     "output_type": "stream",
     "text": [
      "/tmp/ipykernel_20/740760900.py:1: SettingWithCopyWarning: \n",
      "A value is trying to be set on a copy of a slice from a DataFrame.\n",
      "Try using .loc[row_indexer,col_indexer] = value instead\n",
      "\n",
      "See the caveats in the documentation: https://pandas.pydata.org/pandas-docs/stable/user_guide/indexing.html#returning-a-view-versus-a-copy\n",
      "  df['review'] = df['review'].apply(lambda x:x.lower())\n"
     ]
    }
   ],
   "source": [
    "df['review'] = df['review'].apply(lambda x:x.lower())"
   ]
  },
  {
   "cell_type": "code",
   "execution_count": 16,
   "id": "bf0d134c",
   "metadata": {
    "execution": {
     "iopub.execute_input": "2023-08-26T09:07:03.081277Z",
     "iopub.status.busy": "2023-08-26T09:07:03.080819Z",
     "iopub.status.idle": "2023-08-26T09:07:09.569212Z",
     "shell.execute_reply": "2023-08-26T09:07:09.567960Z"
    },
    "papermill": {
     "duration": 6.510509,
     "end_time": "2023-08-26T09:07:09.572924",
     "exception": false,
     "start_time": "2023-08-26T09:07:03.062415",
     "status": "completed"
    },
    "tags": []
   },
   "outputs": [
    {
     "name": "stderr",
     "output_type": "stream",
     "text": [
      "/opt/conda/lib/python3.10/site-packages/scipy/__init__.py:146: UserWarning: A NumPy version >=1.16.5 and <1.23.0 is required for this version of SciPy (detected version 1.23.5\n",
      "  warnings.warn(f\"A NumPy version >={np_minversion} and <{np_maxversion}\"\n",
      "/tmp/ipykernel_20/2826946130.py:5: SettingWithCopyWarning: \n",
      "A value is trying to be set on a copy of a slice from a DataFrame.\n",
      "Try using .loc[row_indexer,col_indexer] = value instead\n",
      "\n",
      "See the caveats in the documentation: https://pandas.pydata.org/pandas-docs/stable/user_guide/indexing.html#returning-a-view-versus-a-copy\n",
      "  df['review'] = df['review'].apply(lambda x: [item for item in x.split() if item not in sw_list]).apply(lambda x:\" \".join(x))\n"
     ]
    }
   ],
   "source": [
    "from nltk.corpus import stopwords\n",
    "\n",
    "sw_list = stopwords.words('english')\n",
    "\n",
    "df['review'] = df['review'].apply(lambda x: [item for item in x.split() if item not in sw_list]).apply(lambda x:\" \".join(x))"
   ]
  },
  {
   "cell_type": "code",
   "execution_count": 17,
   "id": "3cd85c90",
   "metadata": {
    "execution": {
     "iopub.execute_input": "2023-08-26T09:07:09.610883Z",
     "iopub.status.busy": "2023-08-26T09:07:09.609968Z",
     "iopub.status.idle": "2023-08-26T09:07:09.621328Z",
     "shell.execute_reply": "2023-08-26T09:07:09.620624Z"
    },
    "papermill": {
     "duration": 0.032265,
     "end_time": "2023-08-26T09:07:09.623157",
     "exception": false,
     "start_time": "2023-08-26T09:07:09.590892",
     "status": "completed"
    },
    "tags": []
   },
   "outputs": [
    {
     "data": {
      "text/html": [
       "<div>\n",
       "<style scoped>\n",
       "    .dataframe tbody tr th:only-of-type {\n",
       "        vertical-align: middle;\n",
       "    }\n",
       "\n",
       "    .dataframe tbody tr th {\n",
       "        vertical-align: top;\n",
       "    }\n",
       "\n",
       "    .dataframe thead th {\n",
       "        text-align: right;\n",
       "    }\n",
       "</style>\n",
       "<table border=\"1\" class=\"dataframe\">\n",
       "  <thead>\n",
       "    <tr style=\"text-align: right;\">\n",
       "      <th></th>\n",
       "      <th>review</th>\n",
       "      <th>sentiment</th>\n",
       "    </tr>\n",
       "  </thead>\n",
       "  <tbody>\n",
       "    <tr>\n",
       "      <th>0</th>\n",
       "      <td>one reviewers mentioned watching 1 oz episode ...</td>\n",
       "      <td>positive</td>\n",
       "    </tr>\n",
       "    <tr>\n",
       "      <th>1</th>\n",
       "      <td>wonderful little production. filming technique...</td>\n",
       "      <td>positive</td>\n",
       "    </tr>\n",
       "    <tr>\n",
       "      <th>2</th>\n",
       "      <td>thought wonderful way spend time hot summer we...</td>\n",
       "      <td>positive</td>\n",
       "    </tr>\n",
       "    <tr>\n",
       "      <th>3</th>\n",
       "      <td>basically there's family little boy (jake) thi...</td>\n",
       "      <td>negative</td>\n",
       "    </tr>\n",
       "    <tr>\n",
       "      <th>4</th>\n",
       "      <td>petter mattei's \"love time money\" visually stu...</td>\n",
       "      <td>positive</td>\n",
       "    </tr>\n",
       "    <tr>\n",
       "      <th>...</th>\n",
       "      <td>...</td>\n",
       "      <td>...</td>\n",
       "    </tr>\n",
       "    <tr>\n",
       "      <th>9995</th>\n",
       "      <td>fun, entertaining movie wwii german spy (julie...</td>\n",
       "      <td>positive</td>\n",
       "    </tr>\n",
       "    <tr>\n",
       "      <th>9996</th>\n",
       "      <td>give break. anyone say \"good hockey movie\"? kn...</td>\n",
       "      <td>negative</td>\n",
       "    </tr>\n",
       "    <tr>\n",
       "      <th>9997</th>\n",
       "      <td>movie bad movie. watching endless series bad h...</td>\n",
       "      <td>negative</td>\n",
       "    </tr>\n",
       "    <tr>\n",
       "      <th>9998</th>\n",
       "      <td>movie probably made entertain middle school, e...</td>\n",
       "      <td>negative</td>\n",
       "    </tr>\n",
       "    <tr>\n",
       "      <th>9999</th>\n",
       "      <td>smashing film film-making. shows intense stran...</td>\n",
       "      <td>positive</td>\n",
       "    </tr>\n",
       "  </tbody>\n",
       "</table>\n",
       "<p>9983 rows × 2 columns</p>\n",
       "</div>"
      ],
      "text/plain": [
       "                                                 review sentiment\n",
       "0     one reviewers mentioned watching 1 oz episode ...  positive\n",
       "1     wonderful little production. filming technique...  positive\n",
       "2     thought wonderful way spend time hot summer we...  positive\n",
       "3     basically there's family little boy (jake) thi...  negative\n",
       "4     petter mattei's \"love time money\" visually stu...  positive\n",
       "...                                                 ...       ...\n",
       "9995  fun, entertaining movie wwii german spy (julie...  positive\n",
       "9996  give break. anyone say \"good hockey movie\"? kn...  negative\n",
       "9997  movie bad movie. watching endless series bad h...  negative\n",
       "9998  movie probably made entertain middle school, e...  negative\n",
       "9999  smashing film film-making. shows intense stran...  positive\n",
       "\n",
       "[9983 rows x 2 columns]"
      ]
     },
     "execution_count": 17,
     "metadata": {},
     "output_type": "execute_result"
    }
   ],
   "source": [
    "df"
   ]
  },
  {
   "cell_type": "code",
   "execution_count": 18,
   "id": "60a918b4",
   "metadata": {
    "execution": {
     "iopub.execute_input": "2023-08-26T09:07:09.652031Z",
     "iopub.status.busy": "2023-08-26T09:07:09.651257Z",
     "iopub.status.idle": "2023-08-26T09:07:09.656213Z",
     "shell.execute_reply": "2023-08-26T09:07:09.655516Z"
    },
    "papermill": {
     "duration": 0.021127,
     "end_time": "2023-08-26T09:07:09.658098",
     "exception": false,
     "start_time": "2023-08-26T09:07:09.636971",
     "status": "completed"
    },
    "tags": []
   },
   "outputs": [],
   "source": [
    "X = df.iloc[:,0:1]\n",
    "y = df['sentiment']"
   ]
  },
  {
   "cell_type": "code",
   "execution_count": 19,
   "id": "164b5dde",
   "metadata": {
    "execution": {
     "iopub.execute_input": "2023-08-26T09:07:09.685594Z",
     "iopub.status.busy": "2023-08-26T09:07:09.685083Z",
     "iopub.status.idle": "2023-08-26T09:07:09.694225Z",
     "shell.execute_reply": "2023-08-26T09:07:09.693414Z"
    },
    "papermill": {
     "duration": 0.02496,
     "end_time": "2023-08-26T09:07:09.696218",
     "exception": false,
     "start_time": "2023-08-26T09:07:09.671258",
     "status": "completed"
    },
    "tags": []
   },
   "outputs": [
    {
     "data": {
      "text/html": [
       "<div>\n",
       "<style scoped>\n",
       "    .dataframe tbody tr th:only-of-type {\n",
       "        vertical-align: middle;\n",
       "    }\n",
       "\n",
       "    .dataframe tbody tr th {\n",
       "        vertical-align: top;\n",
       "    }\n",
       "\n",
       "    .dataframe thead th {\n",
       "        text-align: right;\n",
       "    }\n",
       "</style>\n",
       "<table border=\"1\" class=\"dataframe\">\n",
       "  <thead>\n",
       "    <tr style=\"text-align: right;\">\n",
       "      <th></th>\n",
       "      <th>review</th>\n",
       "    </tr>\n",
       "  </thead>\n",
       "  <tbody>\n",
       "    <tr>\n",
       "      <th>0</th>\n",
       "      <td>one reviewers mentioned watching 1 oz episode ...</td>\n",
       "    </tr>\n",
       "    <tr>\n",
       "      <th>1</th>\n",
       "      <td>wonderful little production. filming technique...</td>\n",
       "    </tr>\n",
       "    <tr>\n",
       "      <th>2</th>\n",
       "      <td>thought wonderful way spend time hot summer we...</td>\n",
       "    </tr>\n",
       "    <tr>\n",
       "      <th>3</th>\n",
       "      <td>basically there's family little boy (jake) thi...</td>\n",
       "    </tr>\n",
       "    <tr>\n",
       "      <th>4</th>\n",
       "      <td>petter mattei's \"love time money\" visually stu...</td>\n",
       "    </tr>\n",
       "    <tr>\n",
       "      <th>...</th>\n",
       "      <td>...</td>\n",
       "    </tr>\n",
       "    <tr>\n",
       "      <th>9995</th>\n",
       "      <td>fun, entertaining movie wwii german spy (julie...</td>\n",
       "    </tr>\n",
       "    <tr>\n",
       "      <th>9996</th>\n",
       "      <td>give break. anyone say \"good hockey movie\"? kn...</td>\n",
       "    </tr>\n",
       "    <tr>\n",
       "      <th>9997</th>\n",
       "      <td>movie bad movie. watching endless series bad h...</td>\n",
       "    </tr>\n",
       "    <tr>\n",
       "      <th>9998</th>\n",
       "      <td>movie probably made entertain middle school, e...</td>\n",
       "    </tr>\n",
       "    <tr>\n",
       "      <th>9999</th>\n",
       "      <td>smashing film film-making. shows intense stran...</td>\n",
       "    </tr>\n",
       "  </tbody>\n",
       "</table>\n",
       "<p>9983 rows × 1 columns</p>\n",
       "</div>"
      ],
      "text/plain": [
       "                                                 review\n",
       "0     one reviewers mentioned watching 1 oz episode ...\n",
       "1     wonderful little production. filming technique...\n",
       "2     thought wonderful way spend time hot summer we...\n",
       "3     basically there's family little boy (jake) thi...\n",
       "4     petter mattei's \"love time money\" visually stu...\n",
       "...                                                 ...\n",
       "9995  fun, entertaining movie wwii german spy (julie...\n",
       "9996  give break. anyone say \"good hockey movie\"? kn...\n",
       "9997  movie bad movie. watching endless series bad h...\n",
       "9998  movie probably made entertain middle school, e...\n",
       "9999  smashing film film-making. shows intense stran...\n",
       "\n",
       "[9983 rows x 1 columns]"
      ]
     },
     "execution_count": 19,
     "metadata": {},
     "output_type": "execute_result"
    }
   ],
   "source": [
    "X"
   ]
  },
  {
   "cell_type": "code",
   "execution_count": 20,
   "id": "32d86d08",
   "metadata": {
    "execution": {
     "iopub.execute_input": "2023-08-26T09:07:09.723748Z",
     "iopub.status.busy": "2023-08-26T09:07:09.723424Z",
     "iopub.status.idle": "2023-08-26T09:07:09.730109Z",
     "shell.execute_reply": "2023-08-26T09:07:09.729515Z"
    },
    "papermill": {
     "duration": 0.022832,
     "end_time": "2023-08-26T09:07:09.731852",
     "exception": false,
     "start_time": "2023-08-26T09:07:09.709020",
     "status": "completed"
    },
    "tags": []
   },
   "outputs": [
    {
     "data": {
      "text/plain": [
       "0       positive\n",
       "1       positive\n",
       "2       positive\n",
       "3       negative\n",
       "4       positive\n",
       "          ...   \n",
       "9995    positive\n",
       "9996    negative\n",
       "9997    negative\n",
       "9998    negative\n",
       "9999    positive\n",
       "Name: sentiment, Length: 9983, dtype: object"
      ]
     },
     "execution_count": 20,
     "metadata": {},
     "output_type": "execute_result"
    }
   ],
   "source": [
    "y"
   ]
  },
  {
   "cell_type": "code",
   "execution_count": 21,
   "id": "64fbbf70",
   "metadata": {
    "execution": {
     "iopub.execute_input": "2023-08-26T09:07:09.760765Z",
     "iopub.status.busy": "2023-08-26T09:07:09.760158Z",
     "iopub.status.idle": "2023-08-26T09:07:09.768336Z",
     "shell.execute_reply": "2023-08-26T09:07:09.767629Z"
    },
    "papermill": {
     "duration": 0.025429,
     "end_time": "2023-08-26T09:07:09.770411",
     "exception": false,
     "start_time": "2023-08-26T09:07:09.744982",
     "status": "completed"
    },
    "tags": []
   },
   "outputs": [],
   "source": [
    "from sklearn.preprocessing import LabelEncoder\n",
    "\n",
    "encoder = LabelEncoder()\n",
    "\n",
    "y = encoder.fit_transform(y)"
   ]
  },
  {
   "cell_type": "code",
   "execution_count": 22,
   "id": "c616e2cc",
   "metadata": {
    "execution": {
     "iopub.execute_input": "2023-08-26T09:07:09.799961Z",
     "iopub.status.busy": "2023-08-26T09:07:09.799252Z",
     "iopub.status.idle": "2023-08-26T09:07:09.806047Z",
     "shell.execute_reply": "2023-08-26T09:07:09.804770Z"
    },
    "papermill": {
     "duration": 0.024096,
     "end_time": "2023-08-26T09:07:09.808189",
     "exception": false,
     "start_time": "2023-08-26T09:07:09.784093",
     "status": "completed"
    },
    "tags": []
   },
   "outputs": [
    {
     "data": {
      "text/plain": [
       "array([1, 1, 1, ..., 0, 0, 1])"
      ]
     },
     "execution_count": 22,
     "metadata": {},
     "output_type": "execute_result"
    }
   ],
   "source": [
    "y"
   ]
  },
  {
   "cell_type": "code",
   "execution_count": 23,
   "id": "127a6ebc",
   "metadata": {
    "execution": {
     "iopub.execute_input": "2023-08-26T09:07:09.836541Z",
     "iopub.status.busy": "2023-08-26T09:07:09.836165Z",
     "iopub.status.idle": "2023-08-26T09:07:09.844120Z",
     "shell.execute_reply": "2023-08-26T09:07:09.843113Z"
    },
    "papermill": {
     "duration": 0.024202,
     "end_time": "2023-08-26T09:07:09.846237",
     "exception": false,
     "start_time": "2023-08-26T09:07:09.822035",
     "status": "completed"
    },
    "tags": []
   },
   "outputs": [],
   "source": [
    "from sklearn.model_selection import train_test_split\n",
    "X_train,X_test,y_train,y_test = train_test_split(X,y,test_size=0.2,random_state=1)"
   ]
  },
  {
   "cell_type": "code",
   "execution_count": 24,
   "id": "be0f3c6d",
   "metadata": {
    "execution": {
     "iopub.execute_input": "2023-08-26T09:07:09.874700Z",
     "iopub.status.busy": "2023-08-26T09:07:09.874367Z",
     "iopub.status.idle": "2023-08-26T09:07:09.881059Z",
     "shell.execute_reply": "2023-08-26T09:07:09.880049Z"
    },
    "papermill": {
     "duration": 0.023403,
     "end_time": "2023-08-26T09:07:09.883326",
     "exception": false,
     "start_time": "2023-08-26T09:07:09.859923",
     "status": "completed"
    },
    "tags": []
   },
   "outputs": [
    {
     "data": {
      "text/plain": [
       "(7986, 1)"
      ]
     },
     "execution_count": 24,
     "metadata": {},
     "output_type": "execute_result"
    }
   ],
   "source": [
    "X_train.shape"
   ]
  },
  {
   "cell_type": "code",
   "execution_count": 25,
   "id": "10848faf",
   "metadata": {
    "execution": {
     "iopub.execute_input": "2023-08-26T09:07:09.912193Z",
     "iopub.status.busy": "2023-08-26T09:07:09.911873Z",
     "iopub.status.idle": "2023-08-26T09:07:09.916552Z",
     "shell.execute_reply": "2023-08-26T09:07:09.915521Z"
    },
    "papermill": {
     "duration": 0.021586,
     "end_time": "2023-08-26T09:07:09.918626",
     "exception": false,
     "start_time": "2023-08-26T09:07:09.897040",
     "status": "completed"
    },
    "tags": []
   },
   "outputs": [],
   "source": [
    "# Applying BoW\n",
    "from sklearn.feature_extraction.text import CountVectorizer"
   ]
  },
  {
   "cell_type": "code",
   "execution_count": 26,
   "id": "2dbe356e",
   "metadata": {
    "execution": {
     "iopub.execute_input": "2023-08-26T09:07:09.947573Z",
     "iopub.status.busy": "2023-08-26T09:07:09.947215Z",
     "iopub.status.idle": "2023-08-26T09:07:09.951936Z",
     "shell.execute_reply": "2023-08-26T09:07:09.950799Z"
    },
    "papermill": {
     "duration": 0.021715,
     "end_time": "2023-08-26T09:07:09.954122",
     "exception": false,
     "start_time": "2023-08-26T09:07:09.932407",
     "status": "completed"
    },
    "tags": []
   },
   "outputs": [],
   "source": [
    "cv = CountVectorizer()"
   ]
  },
  {
   "cell_type": "code",
   "execution_count": 27,
   "id": "d409d7dc",
   "metadata": {
    "execution": {
     "iopub.execute_input": "2023-08-26T09:07:09.983685Z",
     "iopub.status.busy": "2023-08-26T09:07:09.983301Z",
     "iopub.status.idle": "2023-08-26T09:07:13.257936Z",
     "shell.execute_reply": "2023-08-26T09:07:13.256725Z"
    },
    "papermill": {
     "duration": 3.292841,
     "end_time": "2023-08-26T09:07:13.260734",
     "exception": false,
     "start_time": "2023-08-26T09:07:09.967893",
     "status": "completed"
    },
    "tags": []
   },
   "outputs": [],
   "source": [
    "X_train_bow = cv.fit_transform(X_train['review']).toarray()\n",
    "X_test_bow = cv.transform(X_test['review']).toarray()"
   ]
  },
  {
   "cell_type": "code",
   "execution_count": 28,
   "id": "aac34cf4",
   "metadata": {
    "execution": {
     "iopub.execute_input": "2023-08-26T09:07:13.291221Z",
     "iopub.status.busy": "2023-08-26T09:07:13.290840Z",
     "iopub.status.idle": "2023-08-26T09:07:13.297026Z",
     "shell.execute_reply": "2023-08-26T09:07:13.296036Z"
    },
    "papermill": {
     "duration": 0.024061,
     "end_time": "2023-08-26T09:07:13.299167",
     "exception": false,
     "start_time": "2023-08-26T09:07:13.275106",
     "status": "completed"
    },
    "tags": []
   },
   "outputs": [
    {
     "data": {
      "text/plain": [
       "(7986, 48282)"
      ]
     },
     "execution_count": 28,
     "metadata": {},
     "output_type": "execute_result"
    }
   ],
   "source": [
    "X_train_bow.shape"
   ]
  },
  {
   "cell_type": "code",
   "execution_count": 29,
   "id": "0d6f5f59",
   "metadata": {
    "execution": {
     "iopub.execute_input": "2023-08-26T09:07:13.329145Z",
     "iopub.status.busy": "2023-08-26T09:07:13.328806Z",
     "iopub.status.idle": "2023-08-26T09:07:20.396060Z",
     "shell.execute_reply": "2023-08-26T09:07:20.394935Z"
    },
    "papermill": {
     "duration": 7.085253,
     "end_time": "2023-08-26T09:07:20.398710",
     "exception": false,
     "start_time": "2023-08-26T09:07:13.313457",
     "status": "completed"
    },
    "tags": []
   },
   "outputs": [
    {
     "data": {
      "text/html": [
       "<style>#sk-container-id-1 {color: black;background-color: white;}#sk-container-id-1 pre{padding: 0;}#sk-container-id-1 div.sk-toggleable {background-color: white;}#sk-container-id-1 label.sk-toggleable__label {cursor: pointer;display: block;width: 100%;margin-bottom: 0;padding: 0.3em;box-sizing: border-box;text-align: center;}#sk-container-id-1 label.sk-toggleable__label-arrow:before {content: \"▸\";float: left;margin-right: 0.25em;color: #696969;}#sk-container-id-1 label.sk-toggleable__label-arrow:hover:before {color: black;}#sk-container-id-1 div.sk-estimator:hover label.sk-toggleable__label-arrow:before {color: black;}#sk-container-id-1 div.sk-toggleable__content {max-height: 0;max-width: 0;overflow: hidden;text-align: left;background-color: #f0f8ff;}#sk-container-id-1 div.sk-toggleable__content pre {margin: 0.2em;color: black;border-radius: 0.25em;background-color: #f0f8ff;}#sk-container-id-1 input.sk-toggleable__control:checked~div.sk-toggleable__content {max-height: 200px;max-width: 100%;overflow: auto;}#sk-container-id-1 input.sk-toggleable__control:checked~label.sk-toggleable__label-arrow:before {content: \"▾\";}#sk-container-id-1 div.sk-estimator input.sk-toggleable__control:checked~label.sk-toggleable__label {background-color: #d4ebff;}#sk-container-id-1 div.sk-label input.sk-toggleable__control:checked~label.sk-toggleable__label {background-color: #d4ebff;}#sk-container-id-1 input.sk-hidden--visually {border: 0;clip: rect(1px 1px 1px 1px);clip: rect(1px, 1px, 1px, 1px);height: 1px;margin: -1px;overflow: hidden;padding: 0;position: absolute;width: 1px;}#sk-container-id-1 div.sk-estimator {font-family: monospace;background-color: #f0f8ff;border: 1px dotted black;border-radius: 0.25em;box-sizing: border-box;margin-bottom: 0.5em;}#sk-container-id-1 div.sk-estimator:hover {background-color: #d4ebff;}#sk-container-id-1 div.sk-parallel-item::after {content: \"\";width: 100%;border-bottom: 1px solid gray;flex-grow: 1;}#sk-container-id-1 div.sk-label:hover label.sk-toggleable__label {background-color: #d4ebff;}#sk-container-id-1 div.sk-serial::before {content: \"\";position: absolute;border-left: 1px solid gray;box-sizing: border-box;top: 0;bottom: 0;left: 50%;z-index: 0;}#sk-container-id-1 div.sk-serial {display: flex;flex-direction: column;align-items: center;background-color: white;padding-right: 0.2em;padding-left: 0.2em;position: relative;}#sk-container-id-1 div.sk-item {position: relative;z-index: 1;}#sk-container-id-1 div.sk-parallel {display: flex;align-items: stretch;justify-content: center;background-color: white;position: relative;}#sk-container-id-1 div.sk-item::before, #sk-container-id-1 div.sk-parallel-item::before {content: \"\";position: absolute;border-left: 1px solid gray;box-sizing: border-box;top: 0;bottom: 0;left: 50%;z-index: -1;}#sk-container-id-1 div.sk-parallel-item {display: flex;flex-direction: column;z-index: 1;position: relative;background-color: white;}#sk-container-id-1 div.sk-parallel-item:first-child::after {align-self: flex-end;width: 50%;}#sk-container-id-1 div.sk-parallel-item:last-child::after {align-self: flex-start;width: 50%;}#sk-container-id-1 div.sk-parallel-item:only-child::after {width: 0;}#sk-container-id-1 div.sk-dashed-wrapped {border: 1px dashed gray;margin: 0 0.4em 0.5em 0.4em;box-sizing: border-box;padding-bottom: 0.4em;background-color: white;}#sk-container-id-1 div.sk-label label {font-family: monospace;font-weight: bold;display: inline-block;line-height: 1.2em;}#sk-container-id-1 div.sk-label-container {text-align: center;}#sk-container-id-1 div.sk-container {/* jupyter's `normalize.less` sets `[hidden] { display: none; }` but bootstrap.min.css set `[hidden] { display: none !important; }` so we also need the `!important` here to be able to override the default hidden behavior on the sphinx rendered scikit-learn.org. See: https://github.com/scikit-learn/scikit-learn/issues/21755 */display: inline-block !important;position: relative;}#sk-container-id-1 div.sk-text-repr-fallback {display: none;}</style><div id=\"sk-container-id-1\" class=\"sk-top-container\"><div class=\"sk-text-repr-fallback\"><pre>GaussianNB()</pre><b>In a Jupyter environment, please rerun this cell to show the HTML representation or trust the notebook. <br />On GitHub, the HTML representation is unable to render, please try loading this page with nbviewer.org.</b></div><div class=\"sk-container\" hidden><div class=\"sk-item\"><div class=\"sk-estimator sk-toggleable\"><input class=\"sk-toggleable__control sk-hidden--visually\" id=\"sk-estimator-id-1\" type=\"checkbox\" checked><label for=\"sk-estimator-id-1\" class=\"sk-toggleable__label sk-toggleable__label-arrow\">GaussianNB</label><div class=\"sk-toggleable__content\"><pre>GaussianNB()</pre></div></div></div></div></div>"
      ],
      "text/plain": [
       "GaussianNB()"
      ]
     },
     "execution_count": 29,
     "metadata": {},
     "output_type": "execute_result"
    }
   ],
   "source": [
    "from sklearn.naive_bayes import GaussianNB\n",
    "gnb = GaussianNB()\n",
    "\n",
    "gnb.fit(X_train_bow,y_train)"
   ]
  },
  {
   "cell_type": "code",
   "execution_count": 30,
   "id": "315aa5d5",
   "metadata": {
    "execution": {
     "iopub.execute_input": "2023-08-26T09:07:20.430638Z",
     "iopub.status.busy": "2023-08-26T09:07:20.429995Z",
     "iopub.status.idle": "2023-08-26T09:07:21.999017Z",
     "shell.execute_reply": "2023-08-26T09:07:21.997873Z"
    },
    "papermill": {
     "duration": 1.587657,
     "end_time": "2023-08-26T09:07:22.001381",
     "exception": false,
     "start_time": "2023-08-26T09:07:20.413724",
     "status": "completed"
    },
    "tags": []
   },
   "outputs": [
    {
     "data": {
      "text/plain": [
       "0.6324486730095142"
      ]
     },
     "execution_count": 30,
     "metadata": {},
     "output_type": "execute_result"
    }
   ],
   "source": [
    "y_pred = gnb.predict(X_test_bow)\n",
    "\n",
    "from sklearn.metrics import accuracy_score,confusion_matrix\n",
    "accuracy_score(y_test,y_pred)"
   ]
  },
  {
   "cell_type": "code",
   "execution_count": 31,
   "id": "9fa94cf7",
   "metadata": {
    "execution": {
     "iopub.execute_input": "2023-08-26T09:07:22.033580Z",
     "iopub.status.busy": "2023-08-26T09:07:22.033163Z",
     "iopub.status.idle": "2023-08-26T09:07:22.042205Z",
     "shell.execute_reply": "2023-08-26T09:07:22.041507Z"
    },
    "papermill": {
     "duration": 0.027456,
     "end_time": "2023-08-26T09:07:22.044086",
     "exception": false,
     "start_time": "2023-08-26T09:07:22.016630",
     "status": "completed"
    },
    "tags": []
   },
   "outputs": [
    {
     "data": {
      "text/plain": [
       "array([[717, 235],\n",
       "       [499, 546]])"
      ]
     },
     "execution_count": 31,
     "metadata": {},
     "output_type": "execute_result"
    }
   ],
   "source": [
    "confusion_matrix(y_test,y_pred)"
   ]
  },
  {
   "cell_type": "code",
   "execution_count": 32,
   "id": "1b7caa9d",
   "metadata": {
    "execution": {
     "iopub.execute_input": "2023-08-26T09:07:22.075619Z",
     "iopub.status.busy": "2023-08-26T09:07:22.074944Z",
     "iopub.status.idle": "2023-08-26T09:08:29.395492Z",
     "shell.execute_reply": "2023-08-26T09:08:29.394408Z"
    },
    "papermill": {
     "duration": 67.352102,
     "end_time": "2023-08-26T09:08:29.411243",
     "exception": false,
     "start_time": "2023-08-26T09:07:22.059141",
     "status": "completed"
    },
    "tags": []
   },
   "outputs": [
    {
     "data": {
      "text/plain": [
       "0.8417626439659489"
      ]
     },
     "execution_count": 32,
     "metadata": {},
     "output_type": "execute_result"
    }
   ],
   "source": [
    "from sklearn.ensemble import RandomForestClassifier\n",
    "rf = RandomForestClassifier()\n",
    "\n",
    "rf.fit(X_train_bow,y_train)\n",
    "y_pred = rf.predict(X_test_bow)\n",
    "accuracy_score(y_test,y_pred)"
   ]
  },
  {
   "cell_type": "code",
   "execution_count": 33,
   "id": "3f1de497",
   "metadata": {
    "execution": {
     "iopub.execute_input": "2023-08-26T09:08:29.443036Z",
     "iopub.status.busy": "2023-08-26T09:08:29.442677Z",
     "iopub.status.idle": "2023-08-26T09:08:40.221391Z",
     "shell.execute_reply": "2023-08-26T09:08:40.220586Z"
    },
    "papermill": {
     "duration": 10.797282,
     "end_time": "2023-08-26T09:08:40.223570",
     "exception": false,
     "start_time": "2023-08-26T09:08:29.426288",
     "status": "completed"
    },
    "tags": []
   },
   "outputs": [
    {
     "data": {
      "text/plain": [
       "0.8377566349524287"
      ]
     },
     "execution_count": 33,
     "metadata": {},
     "output_type": "execute_result"
    }
   ],
   "source": [
    "cv = CountVectorizer(max_features=3000)\n",
    "\n",
    "X_train_bow = cv.fit_transform(X_train['review']).toarray()\n",
    "X_test_bow = cv.transform(X_test['review']).toarray()\n",
    "\n",
    "rf = RandomForestClassifier()\n",
    "\n",
    "rf.fit(X_train_bow,y_train)\n",
    "y_pred = rf.predict(X_test_bow)\n",
    "accuracy_score(y_test,y_pred)"
   ]
  },
  {
   "cell_type": "code",
   "execution_count": 34,
   "id": "76646bb6",
   "metadata": {
    "execution": {
     "iopub.execute_input": "2023-08-26T09:08:40.254606Z",
     "iopub.status.busy": "2023-08-26T09:08:40.254222Z",
     "iopub.status.idle": "2023-08-26T09:08:59.897392Z",
     "shell.execute_reply": "2023-08-26T09:08:59.896266Z"
    },
    "papermill": {
     "duration": 19.661739,
     "end_time": "2023-08-26T09:08:59.899875",
     "exception": false,
     "start_time": "2023-08-26T09:08:40.238136",
     "status": "completed"
    },
    "tags": []
   },
   "outputs": [
    {
     "data": {
      "text/plain": [
       "0.8332498748122183"
      ]
     },
     "execution_count": 34,
     "metadata": {},
     "output_type": "execute_result"
    }
   ],
   "source": [
    "cv = CountVectorizer(ngram_range=(1,2),max_features=5000)\n",
    "\n",
    "X_train_bow = cv.fit_transform(X_train['review']).toarray()\n",
    "X_test_bow = cv.transform(X_test['review']).toarray()\n",
    "\n",
    "rf = RandomForestClassifier()\n",
    "\n",
    "rf.fit(X_train_bow,y_train)\n",
    "y_pred = rf.predict(X_test_bow)\n",
    "accuracy_score(y_test,y_pred)"
   ]
  },
  {
   "cell_type": "markdown",
   "id": "12f7582a",
   "metadata": {
    "papermill": {
     "duration": 0.015134,
     "end_time": "2023-08-26T09:08:59.930019",
     "exception": false,
     "start_time": "2023-08-26T09:08:59.914885",
     "status": "completed"
    },
    "tags": []
   },
   "source": [
    "## Using TfIdf"
   ]
  },
  {
   "cell_type": "code",
   "execution_count": 35,
   "id": "fcab5f96",
   "metadata": {
    "execution": {
     "iopub.execute_input": "2023-08-26T09:08:59.964320Z",
     "iopub.status.busy": "2023-08-26T09:08:59.963662Z",
     "iopub.status.idle": "2023-08-26T09:08:59.968185Z",
     "shell.execute_reply": "2023-08-26T09:08:59.967146Z"
    },
    "papermill": {
     "duration": 0.023537,
     "end_time": "2023-08-26T09:08:59.970309",
     "exception": false,
     "start_time": "2023-08-26T09:08:59.946772",
     "status": "completed"
    },
    "tags": []
   },
   "outputs": [],
   "source": [
    "from sklearn.feature_extraction.text import TfidfVectorizer"
   ]
  },
  {
   "cell_type": "code",
   "execution_count": 36,
   "id": "9373f361",
   "metadata": {
    "execution": {
     "iopub.execute_input": "2023-08-26T09:09:00.001765Z",
     "iopub.status.busy": "2023-08-26T09:09:00.001395Z",
     "iopub.status.idle": "2023-08-26T09:09:00.006178Z",
     "shell.execute_reply": "2023-08-26T09:09:00.005020Z"
    },
    "papermill": {
     "duration": 0.023035,
     "end_time": "2023-08-26T09:09:00.008378",
     "exception": false,
     "start_time": "2023-08-26T09:08:59.985343",
     "status": "completed"
    },
    "tags": []
   },
   "outputs": [],
   "source": [
    "tfidf = TfidfVectorizer()"
   ]
  },
  {
   "cell_type": "code",
   "execution_count": 37,
   "id": "27618dc3",
   "metadata": {
    "execution": {
     "iopub.execute_input": "2023-08-26T09:09:00.041660Z",
     "iopub.status.busy": "2023-08-26T09:09:00.040997Z",
     "iopub.status.idle": "2023-08-26T09:09:04.119257Z",
     "shell.execute_reply": "2023-08-26T09:09:04.118225Z"
    },
    "papermill": {
     "duration": 4.097676,
     "end_time": "2023-08-26T09:09:04.121865",
     "exception": false,
     "start_time": "2023-08-26T09:09:00.024189",
     "status": "completed"
    },
    "tags": []
   },
   "outputs": [],
   "source": [
    "X_train_tfidf = tfidf.fit_transform(X_train['review']).toarray()\n",
    "X_test_tfidf = tfidf.transform(X_test['review'])"
   ]
  },
  {
   "cell_type": "code",
   "execution_count": 38,
   "id": "357aa271",
   "metadata": {
    "execution": {
     "iopub.execute_input": "2023-08-26T09:09:04.154939Z",
     "iopub.status.busy": "2023-08-26T09:09:04.154576Z",
     "iopub.status.idle": "2023-08-26T09:10:11.333943Z",
     "shell.execute_reply": "2023-08-26T09:10:11.332298Z"
    },
    "papermill": {
     "duration": 67.214211,
     "end_time": "2023-08-26T09:10:11.351673",
     "exception": false,
     "start_time": "2023-08-26T09:09:04.137462",
     "status": "completed"
    },
    "tags": []
   },
   "outputs": [
    {
     "data": {
      "text/plain": [
       "0.8477716574862293"
      ]
     },
     "execution_count": 38,
     "metadata": {},
     "output_type": "execute_result"
    }
   ],
   "source": [
    "rf = RandomForestClassifier()\n",
    "\n",
    "rf.fit(X_train_tfidf,y_train)\n",
    "y_pred = rf.predict(X_test_tfidf)\n",
    "\n",
    "accuracy_score(y_test,y_pred)"
   ]
  }
 ],
 "metadata": {
  "kernelspec": {
   "display_name": "Python 3",
   "language": "python",
   "name": "python3"
  },
  "language_info": {
   "codemirror_mode": {
    "name": "ipython",
    "version": 3
   },
   "file_extension": ".py",
   "mimetype": "text/x-python",
   "name": "python",
   "nbconvert_exporter": "python",
   "pygments_lexer": "ipython3",
   "version": "3.10.12"
  },
  "papermill": {
   "default_parameters": {},
   "duration": 202.0597,
   "end_time": "2023-08-26T09:10:12.591635",
   "environment_variables": {},
   "exception": null,
   "input_path": "__notebook__.ipynb",
   "output_path": "__notebook__.ipynb",
   "parameters": {},
   "start_time": "2023-08-26T09:06:50.531935",
   "version": "2.4.0"
  }
 },
 "nbformat": 4,
 "nbformat_minor": 5
}
